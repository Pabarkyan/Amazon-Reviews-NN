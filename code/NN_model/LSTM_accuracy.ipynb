{
 "cells": [
  {
   "cell_type": "code",
   "execution_count": 42,
   "metadata": {},
   "outputs": [],
   "source": [
    "import pickle\n",
    "from tensorflow.keras.models import load_model\n",
    "from scikeras.wrappers import KerasClassifier\n",
    "\n",
    "\n",
    "from sklearn.metrics import confusion_matrix, classification_report\n",
    "from sklearn.model_selection import cross_val_score\n",
    "from sklearn.pipeline import Pipeline\n",
    "from sklearn.preprocessing import StandardScaler\n",
    "\n",
    "import seaborn as sns\n",
    "import matplotlib.pyplot as plt\n",
    "\n",
    "import numpy as np\n",
    "import pandas as pd\n"
   ]
  },
  {
   "cell_type": "code",
   "execution_count": 38,
   "metadata": {},
   "outputs": [
    {
     "data": {
      "text/html": [
       "<div>\n",
       "<style scoped>\n",
       "    .dataframe tbody tr th:only-of-type {\n",
       "        vertical-align: middle;\n",
       "    }\n",
       "\n",
       "    .dataframe tbody tr th {\n",
       "        vertical-align: top;\n",
       "    }\n",
       "\n",
       "    .dataframe thead th {\n",
       "        text-align: right;\n",
       "    }\n",
       "</style>\n",
       "<table border=\"1\" class=\"dataframe\">\n",
       "  <thead>\n",
       "    <tr style=\"text-align: right;\">\n",
       "      <th></th>\n",
       "      <th>reseñas</th>\n",
       "      <th>IA</th>\n",
       "      <th>longitud</th>\n",
       "      <th>longitud_promedio</th>\n",
       "      <th>palabras_unicas</th>\n",
       "      <th>signos_de_puntuación</th>\n",
       "      <th>frecuencia_pronombres</th>\n",
       "      <th>variedad_lexica</th>\n",
       "      <th>entropia_lexica</th>\n",
       "      <th>expresiones</th>\n",
       "      <th>tfidf</th>\n",
       "      <th>palabras_complejas</th>\n",
       "      <th>tecnicismos</th>\n",
       "      <th>polaridad</th>\n",
       "      <th>subjetividad</th>\n",
       "      <th>coherencia</th>\n",
       "    </tr>\n",
       "  </thead>\n",
       "  <tbody>\n",
       "    <tr>\n",
       "      <th>0</th>\n",
       "      <td>Necesitaba un nuevo movil y me decidí por este...</td>\n",
       "      <td>0</td>\n",
       "      <td>297</td>\n",
       "      <td>4.066667</td>\n",
       "      <td>0.733333</td>\n",
       "      <td>6</td>\n",
       "      <td>0</td>\n",
       "      <td>0.733333</td>\n",
       "      <td>5.267482</td>\n",
       "      <td>0</td>\n",
       "      <td>5.640761e-02</td>\n",
       "      <td>3</td>\n",
       "      <td>0</td>\n",
       "      <td>0.0</td>\n",
       "      <td>0.0</td>\n",
       "      <td>0.920000</td>\n",
       "    </tr>\n",
       "    <tr>\n",
       "      <th>1</th>\n",
       "      <td>Está en perfectas condiciones la batería al 10...</td>\n",
       "      <td>0</td>\n",
       "      <td>99</td>\n",
       "      <td>5.375000</td>\n",
       "      <td>1.000000</td>\n",
       "      <td>2</td>\n",
       "      <td>0</td>\n",
       "      <td>1.000000</td>\n",
       "      <td>4.000000</td>\n",
       "      <td>0</td>\n",
       "      <td>5.551115e-17</td>\n",
       "      <td>2</td>\n",
       "      <td>0</td>\n",
       "      <td>0.0</td>\n",
       "      <td>0.0</td>\n",
       "      <td>1.000000</td>\n",
       "    </tr>\n",
       "    <tr>\n",
       "      <th>2</th>\n",
       "      <td>Me llegó ayer el iPhone en perfectas condicion...</td>\n",
       "      <td>0</td>\n",
       "      <td>436</td>\n",
       "      <td>4.402439</td>\n",
       "      <td>0.695122</td>\n",
       "      <td>7</td>\n",
       "      <td>0</td>\n",
       "      <td>0.707317</td>\n",
       "      <td>5.710972</td>\n",
       "      <td>0</td>\n",
       "      <td>5.749596e-02</td>\n",
       "      <td>5</td>\n",
       "      <td>0</td>\n",
       "      <td>0.0</td>\n",
       "      <td>0.0</td>\n",
       "      <td>0.857143</td>\n",
       "    </tr>\n",
       "    <tr>\n",
       "      <th>3</th>\n",
       "      <td>Compré  un iPhone 12 a este vendedor y hace un...</td>\n",
       "      <td>0</td>\n",
       "      <td>657</td>\n",
       "      <td>4.124031</td>\n",
       "      <td>0.581395</td>\n",
       "      <td>10</td>\n",
       "      <td>1</td>\n",
       "      <td>0.604651</td>\n",
       "      <td>5.880116</td>\n",
       "      <td>0</td>\n",
       "      <td>7.866846e-02</td>\n",
       "      <td>5</td>\n",
       "      <td>0</td>\n",
       "      <td>0.0</td>\n",
       "      <td>0.0</td>\n",
       "      <td>0.823529</td>\n",
       "    </tr>\n",
       "    <tr>\n",
       "      <th>4</th>\n",
       "      <td>Soy usuario de IPhone desde el principio. Teng...</td>\n",
       "      <td>0</td>\n",
       "      <td>596</td>\n",
       "      <td>4.109244</td>\n",
       "      <td>0.638655</td>\n",
       "      <td>11</td>\n",
       "      <td>0</td>\n",
       "      <td>0.655462</td>\n",
       "      <td>5.953860</td>\n",
       "      <td>0</td>\n",
       "      <td>7.357145e-02</td>\n",
       "      <td>4</td>\n",
       "      <td>0</td>\n",
       "      <td>0.0</td>\n",
       "      <td>0.0</td>\n",
       "      <td>0.953488</td>\n",
       "    </tr>\n",
       "  </tbody>\n",
       "</table>\n",
       "</div>"
      ],
      "text/plain": [
       "                                             reseñas  IA  longitud  \\\n",
       "0  Necesitaba un nuevo movil y me decidí por este...   0       297   \n",
       "1  Está en perfectas condiciones la batería al 10...   0        99   \n",
       "2  Me llegó ayer el iPhone en perfectas condicion...   0       436   \n",
       "3  Compré  un iPhone 12 a este vendedor y hace un...   0       657   \n",
       "4  Soy usuario de IPhone desde el principio. Teng...   0       596   \n",
       "\n",
       "   longitud_promedio  palabras_unicas  signos_de_puntuación  \\\n",
       "0           4.066667         0.733333                     6   \n",
       "1           5.375000         1.000000                     2   \n",
       "2           4.402439         0.695122                     7   \n",
       "3           4.124031         0.581395                    10   \n",
       "4           4.109244         0.638655                    11   \n",
       "\n",
       "   frecuencia_pronombres  variedad_lexica  entropia_lexica  expresiones  \\\n",
       "0                      0         0.733333         5.267482            0   \n",
       "1                      0         1.000000         4.000000            0   \n",
       "2                      0         0.707317         5.710972            0   \n",
       "3                      1         0.604651         5.880116            0   \n",
       "4                      0         0.655462         5.953860            0   \n",
       "\n",
       "          tfidf  palabras_complejas  tecnicismos  polaridad  subjetividad  \\\n",
       "0  5.640761e-02                   3            0        0.0           0.0   \n",
       "1  5.551115e-17                   2            0        0.0           0.0   \n",
       "2  5.749596e-02                   5            0        0.0           0.0   \n",
       "3  7.866846e-02                   5            0        0.0           0.0   \n",
       "4  7.357145e-02                   4            0        0.0           0.0   \n",
       "\n",
       "   coherencia  \n",
       "0    0.920000  \n",
       "1    1.000000  \n",
       "2    0.857143  \n",
       "3    0.823529  \n",
       "4    0.953488  "
      ]
     },
     "execution_count": 38,
     "metadata": {},
     "output_type": "execute_result"
    }
   ],
   "source": [
    "# Importamos el csv\n",
    "FICHERO_DATA = 'data/data_reviews.csv'\n",
    "df = pd.read_csv(FICHERO_DATA)\n",
    "df.head()"
   ]
  },
  {
   "cell_type": "code",
   "execution_count": 25,
   "metadata": {},
   "outputs": [
    {
     "name": "stderr",
     "output_type": "stream",
     "text": [
      "WARNING:absl:Compiled the loaded model, but the compiled metrics have yet to be built. `model.compile_metrics` will be empty until you train or evaluate the model.\n",
      "c:\\Users\\pabma\\AppData\\Local\\Programs\\Python\\Python312\\Lib\\site-packages\\keras\\src\\saving\\saving_lib.py:576: UserWarning: Skipping variable loading for optimizer 'rmsprop', because it has 18 variables whereas the saved optimizer has 34 variables. \n",
      "  saveable.load_own_variables(weights_store.get(inner_path))\n"
     ]
    }
   ],
   "source": [
    "# Cargar el modelo desde HDF5\n",
    "model = load_model('data/modelo_LSTM.h5')\n",
    "\n",
    "# Cargar los datos preprocesados desde el archivo pickle\n",
    "with open('data/datos_preprocesados.pkl', 'rb') as file:\n",
    "    data = pickle.load(file)\n",
    "    X_test_numerical_scaled = data['X_test_numerical_scaled']\n",
    "    X_test_text_padded = data['X_test_text_padded']\n",
    "    y_test = data['y_test']"
   ]
  },
  {
   "cell_type": "code",
   "execution_count": 26,
   "metadata": {},
   "outputs": [
    {
     "name": "stdout",
     "output_type": "stream",
     "text": [
      "\u001b[1m23/23\u001b[0m \u001b[32m━━━━━━━━━━━━━━━━━━━━\u001b[0m\u001b[37m\u001b[0m \u001b[1m1s\u001b[0m 31ms/step - accuracy: 0.7610 - loss: 0.4633\n",
      "Pérdida en el conjunto de prueba: 0.45359498262405396\n",
      "Precisión en el conjunto de prueba: 0.784931480884552\n"
     ]
    }
   ],
   "source": [
    "# Evaluar el modelo\n",
    "loss, accuracy = model.evaluate([X_test_numerical_scaled, X_test_text_padded], y_test)\n",
    "print(f'Pérdida en el conjunto de prueba: {loss}')\n",
    "print(f'Precisión en el conjunto de prueba: {accuracy}')"
   ]
  },
  {
   "cell_type": "code",
   "execution_count": 30,
   "metadata": {},
   "outputs": [
    {
     "name": "stdout",
     "output_type": "stream",
     "text": [
      "\u001b[1m23/23\u001b[0m \u001b[32m━━━━━━━━━━━━━━━━━━━━\u001b[0m\u001b[37m\u001b[0m \u001b[1m1s\u001b[0m 34ms/step\n",
      "y_test shape: (730,)\n",
      "y_pred_classes shape: (730,)\n",
      "y_test unique values: [0 1]\n",
      "y_pred_classes unique values: [0 1]\n"
     ]
    },
    {
     "data": {
      "image/png": "[encoded data removed]",
      "text/plain": [
       "<Figure size 800x600 with 2 Axes>"
      ]
     },
     "metadata": {},
     "output_type": "display_data"
    }
   ],
   "source": [
    "# Obtener probabilidades de las predicciones\n",
    "y_prob = model.predict([X_test_numerical_scaled, X_test_text_padded])\n",
    "# Convertir probabilidades en clases binarias\n",
    "y_pred_classes = (y_prob > 0.5).astype(int).flatten()\n",
    "\n",
    "# Convertir \"y_test\" a un array NumPy si no lo es ya\n",
    "if not isinstance(y_test, np.ndarray):\n",
    "    y_test = np.array(y_test).flatten()\n",
    "\n",
    "# Asegurarse de que \"y_pred_classes\" sea un array NumPy\n",
    "if not isinstance(y_pred_classes, np.ndarray):\n",
    "    y_pred_classes = np.array(y_pred_classes).flatten()\n",
    "\n",
    "# Verificar dimensiones y valores únicos\n",
    "print(f'y_test shape: {y_test.shape}')\n",
    "print(f'y_pred_classes shape: {y_pred_classes.shape}')\n",
    "print(f'y_test unique values: {np.unique(y_test)}')\n",
    "print(f'y_pred_classes unique values: {np.unique(y_pred_classes)}')\n",
    "\n",
    "# Calcular la matriz de confusión\n",
    "cm = confusion_matrix(y_test, y_pred_classes)\n",
    "\n",
    "# Visualizar la matriz de confusión\n",
    "plt.figure(figsize=(8, 6))\n",
    "sns.heatmap(cm, annot=True, fmt='d', cmap='Blues', \n",
    "            xticklabels=['Humanos (0)', 'IA (1)'], \n",
    "            yticklabels=['Humanos (0)', 'IA (1)'])\n",
    "plt.xlabel('Predicción')\n",
    "plt.ylabel('Real')\n",
    "plt.title('Matriz de Confusión')\n",
    "plt.show()\n"
   ]
  },
  {
   "cell_type": "code",
   "execution_count": 33,
   "metadata": {},
   "outputs": [
    {
     "name": "stdout",
     "output_type": "stream",
     "text": [
      "              precision    recall  f1-score   support\n",
      "\n",
      "      Humano       0.84      0.74      0.79       390\n",
      "          IA       0.74      0.84      0.78       340\n",
      "\n",
      "    accuracy                           0.78       730\n",
      "   macro avg       0.79      0.79      0.78       730\n",
      "weighted avg       0.79      0.78      0.79       730\n",
      "\n"
     ]
    }
   ],
   "source": [
    "# Obtener el reporte de clasificación\n",
    "report = classification_report(y_test, y_pred_classes, target_names=['Humano', 'IA'])\n",
    "print(report)"
   ]
  }
 ],
 "metadata": {
  "kernelspec": {
   "display_name": "Python 3",
   "language": "python",
   "name": "python3"
  },
  "language_info": {
   "codemirror_mode": {
    "name": "ipython",
    "version": 3
   },
   "file_extension": ".py",
   "mimetype": "text/x-python",
   "name": "python",
   "nbconvert_exporter": "python",
   "pygments_lexer": "ipython3",
   "version": "3.12.1"
  }
 },
 "nbformat": 4,
 "nbformat_minor": 2
}
